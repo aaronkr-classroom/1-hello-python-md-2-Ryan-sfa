{
 "cells": [
  {
   "cell_type": "code",
   "execution_count": null,
   "id": "59976013",
   "metadata": {
    "vscode": {
     "languageId": "html"
    }
   },
   "outputs": [],
   "source": [
    "%%html\n",
    "<div style=\"background:#e0f7fa; padding:20px; border-radius:12px;\">\n",
    "  <h1 style=\"color:#00796b;\">Welcome to My Notebook!</h1>\n",
    "  <p style=\"font-size:18px;\">This is a colorful section made with HTML and CSS.</p>\n",
    "  <h2 style=\"color:#00695c;\">This is just the beginning...</h2>\n",
    "</div>\n"
   ]
  },
  {
   "cell_type": "code",
   "execution_count": null,
   "id": "ade3570f",
   "metadata": {
    "vscode": {
     "languageId": "html"
    }
   },
   "outputs": [],
   "source": [
    "%%html\n",
    "<h1 style=\"color:#00796b;\"> All time statistics of Football Players in official matches!</h1>\n",
    "<table style=\"border-collapse: collapse; width:60%; text-align:center;\">\n",
    "  <tr style=\"background:#4CAF50; color:white;\">\n",
    "    <th>Name</th><th>Country</th><th>Goals</th><th>Assists</th><th>Games played</th><th>Current or last club </th>\n",
    "  </tr>\n",
    "  <tr><td>Cristiano Ronaldo</td><td>Portugal</td><td>943</td><td>258</td><td>1286</td><td>Al Nassr</td></tr>\n",
    "  <tr><td>Leo Messi</td><td>Argentina</td><td>879</td><td>389</td><td>1120</td><td>Inter Miami</td></tr>\n",
    "  <tr><td>Pele</td><td>Brazil</td><td>756</td><td>367</td><td>795</td><td>NewYork Cosmos</td></tr>\n",
    "</table>"
   ]
  },
  {
   "cell_type": "markdown",
   "id": "44fc748b",
   "metadata": {},
   "source": [
    "Markdown "
   ]
  },
  {
   "cell_type": "markdown",
   "id": "eabd0b95",
   "metadata": {},
   "source": [
    "# Heading 1\n",
    "## Heading 2\n",
    "### Heading 3\n",
    "#### Heading 4  \n",
    "**Bold text**  \n",
    "*Italic text*  \n",
    "***Bold + Italic***  \n",
    "~~Strikethrough~~    \n",
    "`Inline code`\n",
    "- Unordered item 1\n",
    "- Unordered item 2\n",
    "  - Sub-item A\n",
    "  - Sub-item B\n",
    "\n",
    "1. Ordered item 1\n",
    "2. Ordered item 2\n",
    "3. Ordered item 3"
   ]
  },
  {
   "cell_type": "markdown",
   "id": "59311800",
   "metadata": {},
   "source": []
  },
  {
   "cell_type": "code",
   "execution_count": null,
   "id": "0c4bfd79",
   "metadata": {
    "vscode": {
     "languageId": "plaintext"
    }
   },
   "outputs": [],
   "source": [
    "Python"
   ]
  },
  {
   "cell_type": "code",
   "execution_count": null,
   "id": "5762f5af",
   "metadata": {},
   "outputs": [],
   "source": [
    "print(\"Hello, Jupyter Notebook!\")  \n",
    "\n",
    "a = 10\n",
    "b = 5\n",
    "print(\"Sum:\", a + b)\n",
    "print(\"Difference:\", a - b)\n",
    "print(\"Product:\", a * b)\n",
    "print(\"Quotient:\", a / b)\n",
    "\n",
    "\n",
    "fruits = [\"Apple\", \"Orange\", \"Cherry\"]\n",
    "for fruit in fruits:\n",
    "    print(\"I like\", fruit)\n",
    "\n"
   ]
  },
  {
   "cell_type": "markdown",
   "id": "7d4b38c2",
   "metadata": {},
   "source": []
  }
 ],
 "metadata": {
  "language_info": {
   "name": "python"
  }
 },
 "nbformat": 4,
 "nbformat_minor": 5
}
